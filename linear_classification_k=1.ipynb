{
 "cells": [
  {
   "cell_type": "code",
   "execution_count": 2,
   "id": "39433a4f",
   "metadata": {},
   "outputs": [],
   "source": [
    "import numpy as np\n",
    "import cvxpy as cp\n",
    "import matplotlib.pyplot as plt"
   ]
  },
  {
   "cell_type": "code",
   "execution_count": 15,
   "id": "cc769187",
   "metadata": {},
   "outputs": [],
   "source": [
    "n = 300\n",
    "alpha = cp.Variable(n)\n",
    "constraints = [alpha >= 0, cp.sum(alpha) == 1]\n",
    "\n",
    "z = np.random.randn(n)\n",
    "\n",
    "#first let's find the range of alpha^T z in the simplex\n",
    "f = z @ alpha\n",
    "prob = cp.Problem(cp.Minimize(f), constraints)\n",
    "lower_bd = prob.solve()\n",
    "prob = cp.Problem(cp.Minimize(-f), constraints)\n",
    "upper_bd = -prob.solve()\n",
    "\n",
    "#next we compute the minimum value of each norm given the scalar product\n",
    "eps = (upper_bd - lower_bd)/10000\n",
    "res = []\n",
    "# x_range = np.linspace(lower_bd + eps, upper_bd - eps, 100)\n",
    "x_range = np.linspace(-1, 1, 100)\n",
    "for x in x_range:\n",
    "    prob = cp.Problem(cp.Minimize(cp.sum_squares(alpha)), constraints + [f == x])\n",
    "    res += [prob.solve()]\n",
    "    \n",
    "    "
   ]
  },
  {
   "cell_type": "code",
   "execution_count": 19,
   "id": "692b1228",
   "metadata": {},
   "outputs": [
    {
     "data": {
      "text/plain": [
       "[<matplotlib.lines.Line2D at 0x2300f735c70>]"
      ]
     },
     "execution_count": 19,
     "metadata": {},
     "output_type": "execute_result"
    },
    {
     "data": {
      "image/png": "[encoded data removed]",
      "text/plain": [
       "<Figure size 432x288 with 1 Axes>"
      ]
     },
     "metadata": {
      "needs_background": "light"
     },
     "output_type": "display_data"
    }
   ],
   "source": [
    "plt.plot(x_range, res)\n",
    "plt.plot(x_range, x_range**2)"
   ]
  },
  {
   "cell_type": "code",
   "execution_count": null,
   "id": "f9bae9f0",
   "metadata": {},
   "outputs": [],
   "source": []
  }
 ],
 "metadata": {
  "kernelspec": {
   "display_name": "Python 3 (ipykernel)",
   "language": "python",
   "name": "python3"
  },
  "language_info": {
   "codemirror_mode": {
    "name": "ipython",
    "version": 3
   },
   "file_extension": ".py",
   "mimetype": "text/x-python",
   "name": "python",
   "nbconvert_exporter": "python",
   "pygments_lexer": "ipython3",
   "version": "3.9.7"
  }
 },
 "nbformat": 4,
 "nbformat_minor": 5
}
